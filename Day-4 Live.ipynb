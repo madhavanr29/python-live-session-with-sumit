{
 "cells": [
  {
   "cell_type": "raw",
   "metadata": {},
   "source": [
    "# Agenda\n",
    "# While loop\n",
    "# Question on while loop\n",
    "# Functions \n",
    "# Lambda\n",
    "# Map function\n",
    "# Filter function\n",
    "# Reduce function"
   ]
  },
  {
   "cell_type": "raw",
   "metadata": {},
   "source": [
    "# Loops\n",
    "# For Loop: When I know the number of times, i nedd to run the loop\n",
    "# While Loop: When I don't know the number of times the loop is required to executed but we know that the loop will run until cretain condition is true/."
   ]
  },
  {
   "cell_type": "code",
   "execution_count": 2,
   "metadata": {},
   "outputs": [
    {
     "name": "stdout",
     "output_type": "stream",
     "text": [
      "Sumit\n",
      "Sumit\n",
      "Sumit\n",
      "Sumit\n",
      "Sumit\n",
      "Sumit\n",
      "Sumit\n",
      "Sumit\n",
      "Sumit\n",
      "Sumit\n"
     ]
    }
   ],
   "source": [
    "for i in range(0,10):\n",
    "    print(\"Sumit\")"
   ]
  },
  {
   "cell_type": "code",
   "execution_count": 3,
   "metadata": {},
   "outputs": [
    {
     "name": "stdout",
     "output_type": "stream",
     "text": [
      "sumit\n",
      "sumit\n",
      "sumit\n",
      "sumit\n",
      "sumit\n",
      "sumit\n",
      "sumit\n",
      "sumit\n",
      "sumit\n",
      "sumit\n",
      "sumit\n"
     ]
    }
   ],
   "source": [
    "# condition: I will run the loop until a less than or equals 10\n",
    "\n",
    "a = 0\n",
    "while a<10:\n",
    "    print(\"sumit\")\n",
    "    a+=1"
   ]
  },
  {
   "cell_type": "code",
   "execution_count": 8,
   "metadata": {},
   "outputs": [
    {
     "name": "stdout",
     "output_type": "stream",
     "text": [
      "The value of a is 5 now\n"
     ]
    }
   ],
   "source": [
    "# Additional keywords\n",
    "\n",
    "# break\n",
    "# Continue\n",
    "# pass\n",
    "\n",
    "# I wanted to print the value of a for each iteration and I wanted to stop the loop when my a becomes 5\n",
    "a =0\n",
    "\n",
    "while a<=10:\n",
    "    a+=1\n",
    "    if a ==5:\n",
    "        print(\"The value of a is 5 now\")\n",
    "        break\n",
    "    else:\n",
    "        continue"
   ]
  },
  {
   "cell_type": "code",
   "execution_count": 11,
   "metadata": {},
   "outputs": [],
   "source": [
    "# Pass\n",
    "\n",
    "l1 = [2,4,6,4,2,6,6,8,9,5,3,7,7]\n",
    "l2 = []\n",
    "\n",
    "for i in l1:\n",
    "    if i%2==0:\n",
    "        l2.append(i)\n",
    "    else:\n",
    "        pass"
   ]
  },
  {
   "cell_type": "code",
   "execution_count": 12,
   "metadata": {},
   "outputs": [
    {
     "data": {
      "text/plain": [
       "[2, 4, 6, 4, 2, 6, 6, 8]"
      ]
     },
     "execution_count": 12,
     "metadata": {},
     "output_type": "execute_result"
    }
   ],
   "source": [
    "l2"
   ]
  },
  {
   "cell_type": "code",
   "execution_count": 16,
   "metadata": {},
   "outputs": [
    {
     "name": "stdout",
     "output_type": "stream",
     "text": [
      "buzz\n",
      "fizz\n",
      "buzz\n",
      "buzz\n",
      "fizz\n",
      "buzz\n",
      "fizbuzz\n",
      "buzz\n",
      "fizz\n",
      "buzz\n",
      "buzz\n",
      "fizz\n",
      "buzz\n",
      "fizbuzz\n",
      "buzz\n",
      "fizz\n",
      "buzz\n",
      "buzz\n",
      "fizz\n",
      "buzz\n",
      "fizbuzz\n",
      "buzz\n",
      "fizz\n"
     ]
    }
   ],
   "source": [
    "## Example:\n",
    "\n",
    "# run the loop for number between 1 and 50 and \n",
    "# print \"fizz\", if the number id divisible by 3\n",
    "# print \"buzz\", if the number id divisible by 5\n",
    "# print \"fizzbuzz\", if the number is divisible by both 3 and 5\n",
    "\n",
    "for i in range(1, 51):\n",
    "    if i%3==0 and i%5==0:\n",
    "        print(\"fizbuzz\")\n",
    "    elif i%3 ==0:\n",
    "        print(\"buzz\")\n",
    "    elif i%5 ==0:\n",
    "        print(\"fizz\")\n",
    "    else:\n",
    "        continue"
   ]
  },
  {
   "cell_type": "code",
   "execution_count": 33,
   "metadata": {},
   "outputs": [],
   "source": [
    "## Fibonacci Series\n",
    "# 1,1,2,3,5,8,13,21,34\n",
    "fib = [1]\n",
    "x,y = 0,1\n",
    "i = 0\n",
    "while i<9:\n",
    "    i+=1\n",
    "    fib.append(x+y)\n",
    "    x,y = y,x+y\n",
    "    "
   ]
  },
  {
   "cell_type": "code",
   "execution_count": 34,
   "metadata": {},
   "outputs": [
    {
     "data": {
      "text/plain": [
       "[1, 1, 2, 3, 5, 8, 13, 21, 34, 55]"
      ]
     },
     "execution_count": 34,
     "metadata": {},
     "output_type": "execute_result"
    }
   ],
   "source": [
    "fib"
   ]
  },
  {
   "cell_type": "markdown",
   "metadata": {},
   "source": [
    "## list comprehensions"
   ]
  },
  {
   "cell_type": "code",
   "execution_count": 35,
   "metadata": {},
   "outputs": [],
   "source": [
    "l1 = [1,2,3,4,5,6]\n",
    "# [2,4,6,8,10,12]\n",
    "\n",
    "# Method-1\n",
    "l2 = []\n",
    "for i in l1:\n",
    "    l2.append(i*2)"
   ]
  },
  {
   "cell_type": "code",
   "execution_count": 36,
   "metadata": {},
   "outputs": [
    {
     "data": {
      "text/plain": [
       "[2, 4, 6, 8, 10, 12]"
      ]
     },
     "execution_count": 36,
     "metadata": {},
     "output_type": "execute_result"
    }
   ],
   "source": [
    "l2"
   ]
  },
  {
   "cell_type": "code",
   "execution_count": 37,
   "metadata": {},
   "outputs": [
    {
     "data": {
      "text/plain": [
       "[2, 4, 6, 8, 10, 12]"
      ]
     },
     "execution_count": 37,
     "metadata": {},
     "output_type": "execute_result"
    }
   ],
   "source": [
    "## Method-2\n",
    "[i*2 for i in l1]\n",
    "# [output, mention the location of i, condition on i]"
   ]
  },
  {
   "cell_type": "code",
   "execution_count": 40,
   "metadata": {},
   "outputs": [],
   "source": [
    "l1 = list(range(0,51))"
   ]
  },
  {
   "cell_type": "code",
   "execution_count": 41,
   "metadata": {},
   "outputs": [
    {
     "data": {
      "text/plain": [
       "[0,\n",
       " 2,\n",
       " 4,\n",
       " 6,\n",
       " 8,\n",
       " 10,\n",
       " 12,\n",
       " 14,\n",
       " 16,\n",
       " 18,\n",
       " 20,\n",
       " 22,\n",
       " 24,\n",
       " 26,\n",
       " 28,\n",
       " 30,\n",
       " 32,\n",
       " 34,\n",
       " 36,\n",
       " 38,\n",
       " 40,\n",
       " 42,\n",
       " 44,\n",
       " 46,\n",
       " 48,\n",
       " 50]"
      ]
     },
     "execution_count": 41,
     "metadata": {},
     "output_type": "execute_result"
    }
   ],
   "source": [
    "# method-1\n",
    "\n",
    "l2 = []\n",
    "for i in l1:\n",
    "    if i%2==0:\n",
    "        l2.append(i)\n",
    "l2"
   ]
  },
  {
   "cell_type": "code",
   "execution_count": 43,
   "metadata": {},
   "outputs": [
    {
     "data": {
      "text/plain": [
       "[0,\n",
       " 2,\n",
       " 4,\n",
       " 6,\n",
       " 8,\n",
       " 10,\n",
       " 12,\n",
       " 14,\n",
       " 16,\n",
       " 18,\n",
       " 20,\n",
       " 22,\n",
       " 24,\n",
       " 26,\n",
       " 28,\n",
       " 30,\n",
       " 32,\n",
       " 34,\n",
       " 36,\n",
       " 38,\n",
       " 40,\n",
       " 42,\n",
       " 44,\n",
       " 46,\n",
       " 48,\n",
       " 50]"
      ]
     },
     "execution_count": 43,
     "metadata": {},
     "output_type": "execute_result"
    }
   ],
   "source": [
    "## method-2\n",
    "\n",
    "[i for i in l1 if i%2==0]"
   ]
  },
  {
   "cell_type": "code",
   "execution_count": 48,
   "metadata": {},
   "outputs": [
    {
     "name": "stdout",
     "output_type": "stream",
     "text": [
      "Yes the input list have a sublist\n"
     ]
    }
   ],
   "source": [
    "## \n",
    "l1 = [\"sumit\", 'shukla', 1, 1.8, True, [1,2,3]]\n",
    "# Check if the input list is having a sublist or not?\n",
    "if len([i for i in l1 if type(i)==list]) !=0:\n",
    "    print(\"Yes the input list have a sublist\")\n",
    "else:\n",
    "    print(\"No it's not having the sublist\")"
   ]
  },
  {
   "cell_type": "code",
   "execution_count": 49,
   "metadata": {},
   "outputs": [
    {
     "data": {
      "text/plain": [
       "[[1, 2, 3]]"
      ]
     },
     "execution_count": 49,
     "metadata": {},
     "output_type": "execute_result"
    }
   ],
   "source": [
    "[i for i in l1 if type(i)==list]"
   ]
  },
  {
   "cell_type": "code",
   "execution_count": 53,
   "metadata": {},
   "outputs": [
    {
     "name": "stdout",
     "output_type": "stream",
     "text": [
      "p1\n",
      "q1\n",
      "p2\n",
      "q2\n",
      "p3\n",
      "q3\n",
      "p4\n",
      "q4\n",
      "p5\n",
      "q5\n"
     ]
    }
   ],
   "source": [
    "## List comprehension with nested loops\n",
    "\n",
    "sample_list = ['p', 'q']\n",
    "n =5\n",
    "# Sample Output : ['p1', 'q1', 'p2', 'q2', 'p3', 'q3', 'p4', 'q4', 'p5', 'q5']\n",
    "\n",
    "## Method-1\n",
    "\n",
    "for i in range(1,n+1):\n",
    "    for j in sample_list:\n",
    "        print(\"{}{}\".format(j,i))"
   ]
  },
  {
   "cell_type": "code",
   "execution_count": 55,
   "metadata": {},
   "outputs": [
    {
     "data": {
      "text/plain": [
       "['p1', 'q1', 'p2', 'q2', 'p3', 'q3', 'p4', 'q4', 'p5', 'q5']"
      ]
     },
     "execution_count": 55,
     "metadata": {},
     "output_type": "execute_result"
    }
   ],
   "source": [
    "[\"{}{}\".format(j,i) for i in range(1, n+1) for  j in sample_list]"
   ]
  },
  {
   "cell_type": "code",
   "execution_count": 57,
   "metadata": {},
   "outputs": [
    {
     "name": "stdout",
     "output_type": "stream",
     "text": [
      "ny name is sumit shukla\n"
     ]
    }
   ],
   "source": [
    "a = \"sumit\"\n",
    "b = 'shukla'\n",
    "print(\"ny name is {} {}\".format(a,b))"
   ]
  },
  {
   "cell_type": "code",
   "execution_count": 58,
   "metadata": {},
   "outputs": [
    {
     "data": {
      "text/plain": [
       "{1: 2, 2: 4, 3: 6, 4: 8, 5: 10}"
      ]
     },
     "execution_count": 58,
     "metadata": {},
     "output_type": "execute_result"
    }
   ],
   "source": [
    "## Comprehension with dictionary\n",
    "\n",
    "# {1:2, 2:4, 3:6, 4:8, 5:10}\n",
    "\n",
    "# Method-1\n",
    "\n",
    "d1={}\n",
    "for i in range(1, 6):\n",
    "    d1[i] = i*2\n",
    "d1"
   ]
  },
  {
   "cell_type": "code",
   "execution_count": 59,
   "metadata": {},
   "outputs": [
    {
     "data": {
      "text/plain": [
       "{1: 2, 2: 4, 3: 6, 4: 8, 5: 10}"
      ]
     },
     "execution_count": 59,
     "metadata": {},
     "output_type": "execute_result"
    }
   ],
   "source": [
    "{i:i*2 for i in range(1,6)}"
   ]
  },
  {
   "cell_type": "markdown",
   "metadata": {},
   "source": [
    "## Functions"
   ]
  },
  {
   "cell_type": "code",
   "execution_count": null,
   "metadata": {},
   "outputs": [],
   "source": [
    "# Named function : def\n",
    "# Lambda"
   ]
  },
  {
   "cell_type": "code",
   "execution_count": 61,
   "metadata": {},
   "outputs": [],
   "source": [
    "l1 = [4,5,8,3,7,9,6,3,2]\n",
    "# filter out the elements that are divisible by 2\n",
    "\n",
    "def list_even(l):\n",
    "    l2 = []\n",
    "    for i in l:\n",
    "        if i%2==0:\n",
    "            l2.append(i)\n",
    "    return l2"
   ]
  },
  {
   "cell_type": "code",
   "execution_count": 62,
   "metadata": {},
   "outputs": [
    {
     "data": {
      "text/plain": [
       "[4, 8, 6, 2]"
      ]
     },
     "execution_count": 62,
     "metadata": {},
     "output_type": "execute_result"
    }
   ],
   "source": [
    "list_even(l1)"
   ]
  },
  {
   "cell_type": "code",
   "execution_count": 64,
   "metadata": {
    "scrolled": true
   },
   "outputs": [
    {
     "data": {
      "text/plain": [
       "[6, 8, 4, 6]"
      ]
     },
     "execution_count": 64,
     "metadata": {},
     "output_type": "execute_result"
    }
   ],
   "source": [
    "list_even([6,7,8,4,5,6,7,7])"
   ]
  },
  {
   "cell_type": "code",
   "execution_count": 67,
   "metadata": {},
   "outputs": [],
   "source": [
    "# Write a function that takes the input as the list of strings and return the list of string in title format\n",
    "\n",
    "#[\"sumit\", \"shukla\", \"pyhton\", \"sessiom\"]\n",
    "#['Sumit', \"Shukla\", \"Python\", \"Session\"]\n",
    "\n",
    "def title_list(l):\n",
    "    l1 = [i.title() for i in l]\n",
    "    print(l1)"
   ]
  },
  {
   "cell_type": "code",
   "execution_count": 68,
   "metadata": {},
   "outputs": [
    {
     "name": "stdout",
     "output_type": "stream",
     "text": [
      "['Sumit', 'Shukla', 'Pyhton', 'Sessiom']\n"
     ]
    }
   ],
   "source": [
    "title_list([\"sumit\", \"shukla\", \"pyhton\", \"sessiom\"])"
   ]
  },
  {
   "cell_type": "code",
   "execution_count": 78,
   "metadata": {},
   "outputs": [],
   "source": [
    "# Write a function that takes a input as the list of integers and returns even numbers\n",
    "\n",
    "def list_even(l):\n",
    "    l2 = [i for i in l if i%2==0]\n",
    "    return l2"
   ]
  },
  {
   "cell_type": "code",
   "execution_count": 79,
   "metadata": {},
   "outputs": [],
   "source": [
    "a = list_even([1,2,6,7,8,9,4,5,3])"
   ]
  },
  {
   "cell_type": "code",
   "execution_count": 80,
   "metadata": {},
   "outputs": [
    {
     "data": {
      "text/plain": [
       "[2, 6, 8, 4]"
      ]
     },
     "execution_count": 80,
     "metadata": {},
     "output_type": "execute_result"
    }
   ],
   "source": [
    "a"
   ]
  },
  {
   "cell_type": "code",
   "execution_count": 81,
   "metadata": {},
   "outputs": [
    {
     "data": {
      "text/plain": [
       "list"
      ]
     },
     "execution_count": 81,
     "metadata": {},
     "output_type": "execute_result"
    }
   ],
   "source": [
    "type(a)"
   ]
  },
  {
   "cell_type": "raw",
   "metadata": {},
   "source": [
    "# Write a function that takes input as a integer value and return \"Even\" if the number is divisible by2, return \"No\", if the number is divisible by5 else return \"never\""
   ]
  },
  {
   "cell_type": "code",
   "execution_count": 90,
   "metadata": {},
   "outputs": [],
   "source": [
    "def play(n):\n",
    "    if n%2==0 and n%5==0:\n",
    "        return \"never\"\n",
    "    elif n%2==0:\n",
    "        return \"even\"\n",
    "    elif n%5==0:\n",
    "        return 'div_5'\n",
    "    else:\n",
    "        return \"no\""
   ]
  },
  {
   "cell_type": "code",
   "execution_count": 94,
   "metadata": {},
   "outputs": [
    {
     "data": {
      "text/plain": [
       "'even'"
      ]
     },
     "execution_count": 94,
     "metadata": {},
     "output_type": "execute_result"
    }
   ],
   "source": [
    "play(8)"
   ]
  },
  {
   "cell_type": "code",
   "execution_count": 95,
   "metadata": {},
   "outputs": [],
   "source": [
    "# Write a function that takes two values x and y and return x*x and y*y\n",
    "\n",
    "def mul_x_y(x,y):\n",
    "    return x*x, y*y"
   ]
  },
  {
   "cell_type": "code",
   "execution_count": 97,
   "metadata": {},
   "outputs": [],
   "source": [
    "a,b = mul_x_y(2,4)"
   ]
  },
  {
   "cell_type": "code",
   "execution_count": 98,
   "metadata": {},
   "outputs": [
    {
     "data": {
      "text/plain": [
       "4"
      ]
     },
     "execution_count": 98,
     "metadata": {},
     "output_type": "execute_result"
    }
   ],
   "source": [
    "a"
   ]
  },
  {
   "cell_type": "code",
   "execution_count": 99,
   "metadata": {},
   "outputs": [
    {
     "data": {
      "text/plain": [
       "16"
      ]
     },
     "execution_count": 99,
     "metadata": {},
     "output_type": "execute_result"
    }
   ],
   "source": [
    "b"
   ]
  },
  {
   "cell_type": "code",
   "execution_count": 120,
   "metadata": {},
   "outputs": [
    {
     "data": {
      "text/plain": [
       "[2, 4, 6, 8, 10, 12]"
      ]
     },
     "execution_count": 120,
     "metadata": {},
     "output_type": "execute_result"
    }
   ],
   "source": [
    "## Map function\n",
    "\n",
    "l1 = [1,2,3,4,5,6]\n",
    "# [2,4,6,8,10,12]\n",
    "\n",
    "# method-1\n",
    "# use the regular for loop\n",
    "\n",
    "# method-2\n",
    "# list comprehensions\n",
    "\n",
    "\n",
    "# map function\n",
    "# it will apply a function to each element of a list\n",
    "\n",
    "def mul_2(x):\n",
    "    return x*2\n",
    "\n",
    "# list(map(mul_2, l1))\n",
    "\n",
    "list(map(lambda x:x*2, l1))"
   ]
  },
  {
   "cell_type": "code",
   "execution_count": 104,
   "metadata": {},
   "outputs": [
    {
     "data": {
      "text/plain": [
       "['sumit@ss.com',\n",
       " 'rakesh@ss.com',\n",
       " 'mahesh@ss.com',\n",
       " 'ajay@ss.com',\n",
       " 'deepak@ss.com',\n",
       " 'invalid username']"
      ]
     },
     "execution_count": 104,
     "metadata": {},
     "output_type": "execute_result"
    }
   ],
   "source": [
    "# Example:\n",
    "\n",
    "l1 = [\"sumit\", \"rakesh\", \"mahesh\", \"ajay\", \"deepak\", \"3ishwar\"]\n",
    "\n",
    "# Return a new list of complete email address using the usernames given the list l1 if the username starts with a letter\n",
    "# else return \"invalid username\"\n",
    "\n",
    "def email(x):\n",
    "    if x[0] in \"0123456789\":\n",
    "        return \"invalid username\"\n",
    "    else:\n",
    "        return x+\"@ss.com\"\n",
    "    \n",
    "list(map(email, l1))"
   ]
  },
  {
   "cell_type": "code",
   "execution_count": 119,
   "metadata": {},
   "outputs": [
    {
     "data": {
      "text/plain": [
       "[2, 4, 4, 76, 2]"
      ]
     },
     "execution_count": 119,
     "metadata": {},
     "output_type": "execute_result"
    }
   ],
   "source": [
    "## Filter\n",
    "\n",
    "# filter out the elemnts for a list if the function return True\n",
    "\n",
    "l1 = [2,4,4,5,7,9,76,5,3,2]\n",
    "\n",
    "def even_num(x):\n",
    "    return x%2==0\n",
    "\n",
    "# list(filter(even_num, l1))\n",
    "\n",
    "list(filter(lambda x: x%2==0, l1))"
   ]
  },
  {
   "cell_type": "code",
   "execution_count": 112,
   "metadata": {},
   "outputs": [
    {
     "data": {
      "text/plain": [
       "['sumit', 'rakesh', 'mahesh', 'ajay', 'deepak']"
      ]
     },
     "execution_count": 112,
     "metadata": {},
     "output_type": "execute_result"
    }
   ],
   "source": [
    "# Question\n",
    "l1 = [\"sumit\", \"rakesh\", \"mahesh\", \"ajay\", \"deepak\", \"3ishwar\"]\n",
    "\n",
    "\n",
    "def check_username(x):\n",
    "    return x[0] not in \"0123456789\"\n",
    "\n",
    "list(filter(check_username, l1))"
   ]
  },
  {
   "cell_type": "code",
   "execution_count": 114,
   "metadata": {},
   "outputs": [],
   "source": [
    "## Reduce\n",
    "\n",
    "from functools import reduce"
   ]
  },
  {
   "cell_type": "code",
   "execution_count": 117,
   "metadata": {},
   "outputs": [
    {
     "data": {
      "text/plain": [
       "21"
      ]
     },
     "execution_count": 117,
     "metadata": {},
     "output_type": "execute_result"
    }
   ],
   "source": [
    "l1 = [1,2,3,4,5,6]\n",
    "\n",
    "def add_list(x,y):\n",
    "    return x+y\n",
    "\n",
    "reduce(add_list, l1[::-1])"
   ]
  },
  {
   "cell_type": "code",
   "execution_count": 118,
   "metadata": {},
   "outputs": [
    {
     "data": {
      "text/plain": [
       "21"
      ]
     },
     "execution_count": 118,
     "metadata": {},
     "output_type": "execute_result"
    }
   ],
   "source": [
    "# Lambda\n",
    "\n",
    "reduce(lambda x, y:x+y, l1)"
   ]
  }
 ],
 "metadata": {
  "kernelspec": {
   "display_name": "Python 3",
   "language": "python",
   "name": "python3"
  },
  "language_info": {
   "codemirror_mode": {
    "name": "ipython",
    "version": 3
   },
   "file_extension": ".py",
   "mimetype": "text/x-python",
   "name": "python",
   "nbconvert_exporter": "python",
   "pygments_lexer": "ipython3",
   "version": "3.7.4"
  }
 },
 "nbformat": 4,
 "nbformat_minor": 2
}
