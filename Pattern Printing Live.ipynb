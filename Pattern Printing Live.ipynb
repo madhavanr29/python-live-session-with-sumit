{
 "cells": [
  {
   "cell_type": "raw",
   "metadata": {},
   "source": [
    "n=4\n",
    "\n",
    "* * * *\n",
    "* * * *\n",
    "* * * *\n",
    "* * * *"
   ]
  },
  {
   "cell_type": "code",
   "execution_count": 12,
   "metadata": {},
   "outputs": [
    {
     "name": "stdout",
     "output_type": "stream",
     "text": [
      "9\n",
      "* * * * * * * * * \n",
      "* * * * * * * * * \n",
      "* * * * * * * * * \n",
      "* * * * * * * * * \n",
      "* * * * * * * * * \n",
      "* * * * * * * * * \n",
      "* * * * * * * * * \n",
      "* * * * * * * * * \n",
      "* * * * * * * * * \n"
     ]
    }
   ],
   "source": [
    "# One for loop when the element of the columns are not changing with the change in the rows\n",
    "\n",
    "n = int(input())\n",
    "\n",
    "for i in range(n):\n",
    "    print(\"* \"*n)"
   ]
  },
  {
   "cell_type": "code",
   "execution_count": 14,
   "metadata": {},
   "outputs": [
    {
     "data": {
      "text/plain": [
       "str"
      ]
     },
     "execution_count": 14,
     "metadata": {},
     "output_type": "execute_result"
    }
   ],
   "source": [
    "type(\"*\")"
   ]
  },
  {
   "cell_type": "raw",
   "metadata": {},
   "source": [
    "n = 3\n",
    "\n",
    "3 3 3\n",
    "3 3 3\n",
    "3 3 3"
   ]
  },
  {
   "cell_type": "code",
   "execution_count": 11,
   "metadata": {
    "scrolled": true
   },
   "outputs": [
    {
     "name": "stdout",
     "output_type": "stream",
     "text": [
      "9\n",
      "9 9 9 9 9 9 9 9 9 \n",
      "9 9 9 9 9 9 9 9 9 \n",
      "9 9 9 9 9 9 9 9 9 \n",
      "9 9 9 9 9 9 9 9 9 \n",
      "9 9 9 9 9 9 9 9 9 \n",
      "9 9 9 9 9 9 9 9 9 \n",
      "9 9 9 9 9 9 9 9 9 \n",
      "9 9 9 9 9 9 9 9 9 \n",
      "9 9 9 9 9 9 9 9 9 \n"
     ]
    }
   ],
   "source": [
    "n = int(input())\n",
    "\n",
    "for i in range(n):\n",
    "    print((str(n)+\" \")*n)"
   ]
  },
  {
   "cell_type": "code",
   "execution_count": 17,
   "metadata": {},
   "outputs": [
    {
     "name": "stdout",
     "output_type": "stream",
     "text": [
      "3 \n"
     ]
    }
   ],
   "source": [
    "print(str(3)+\" \")"
   ]
  },
  {
   "cell_type": "code",
   "execution_count": 16,
   "metadata": {},
   "outputs": [
    {
     "data": {
      "text/plain": [
       "'3'"
      ]
     },
     "execution_count": 16,
     "metadata": {},
     "output_type": "execute_result"
    }
   ],
   "source": [
    "str(3)"
   ]
  },
  {
   "cell_type": "raw",
   "metadata": {},
   "source": [
    "n = 5\n",
    "\n",
    "A \n",
    "B B \n",
    "C C C \n",
    "D D D D \n",
    "E E E E E "
   ]
  },
  {
   "cell_type": "code",
   "execution_count": 27,
   "metadata": {},
   "outputs": [
    {
     "data": {
      "text/plain": [
       "'B'"
      ]
     },
     "execution_count": 27,
     "metadata": {},
     "output_type": "execute_result"
    }
   ],
   "source": [
    "chr(65+1)"
   ]
  },
  {
   "cell_type": "code",
   "execution_count": 30,
   "metadata": {},
   "outputs": [
    {
     "name": "stdout",
     "output_type": "stream",
     "text": [
      "5\n",
      "A \n",
      "B B \n",
      "C C C \n",
      "D D D D \n",
      "E E E E E \n"
     ]
    }
   ],
   "source": [
    "n = int(input())\n",
    "for i in range(n):\n",
    "    print((chr(65+i)+ \" \")*(i+1))"
   ]
  },
  {
   "cell_type": "raw",
   "metadata": {},
   "source": [
    "* * * * * \n",
    "* * * * \n",
    "* * * \n",
    "* * \n",
    "* "
   ]
  },
  {
   "cell_type": "code",
   "execution_count": 31,
   "metadata": {},
   "outputs": [
    {
     "name": "stdout",
     "output_type": "stream",
     "text": [
      "5\n",
      "* * * * * \n",
      "* * * * \n",
      "* * * \n",
      "* * \n",
      "* \n"
     ]
    }
   ],
   "source": [
    "n = int(input())\n",
    "for i in range(n):\n",
    "    print(\"* \"*(n-i))"
   ]
  },
  {
   "cell_type": "raw",
   "metadata": {},
   "source": [
    "1 2 3 4 5 \n",
    "1 2 3 4 \n",
    "1 2 3 \n",
    "1 2 \n",
    "1 "
   ]
  },
  {
   "cell_type": "code",
   "execution_count": 44,
   "metadata": {},
   "outputs": [
    {
     "name": "stdout",
     "output_type": "stream",
     "text": [
      "9\n",
      "1 2 3 4 5 6 7 8 9 \n",
      "1 2 3 4 5 6 7 8 \n",
      "1 2 3 4 5 6 7 \n",
      "1 2 3 4 5 6 \n",
      "1 2 3 4 5 \n",
      "1 2 3 4 \n",
      "1 2 3 \n",
      "1 2 \n",
      "1 \n"
     ]
    }
   ],
   "source": [
    "n = int(input())\n",
    "for row in range(n):\n",
    "    for column in range(n-row):\n",
    "        print(column+1, end = \" \")\n",
    "    print()"
   ]
  },
  {
   "cell_type": "code",
   "execution_count": 43,
   "metadata": {},
   "outputs": [
    {
     "name": "stdout",
     "output_type": "stream",
     "text": [
      "1\n"
     ]
    }
   ],
   "source": [
    "print(\"1\")"
   ]
  },
  {
   "cell_type": "code",
   "execution_count": 35,
   "metadata": {},
   "outputs": [
    {
     "name": "stdout",
     "output_type": "stream",
     "text": [
      "01234"
     ]
    }
   ],
   "source": [
    "for i in range(5):\n",
    "    print(i, end = \"\")"
   ]
  },
  {
   "cell_type": "code",
   "execution_count": 34,
   "metadata": {},
   "outputs": [
    {
     "name": "stdout",
     "output_type": "stream",
     "text": [
      "Help on built-in function print in module builtins:\n",
      "\n",
      "print(...)\n",
      "    print(value, ..., sep=' ', end='\\n', file=sys.stdout, flush=False)\n",
      "    \n",
      "    Prints the values to a stream, or to sys.stdout by default.\n",
      "    Optional keyword arguments:\n",
      "    file:  a file-like object (stream); defaults to the current sys.stdout.\n",
      "    sep:   string inserted between values, default a space.\n",
      "    end:   string appended after the last value, default a newline.\n",
      "    flush: whether to forcibly flush the stream.\n",
      "\n"
     ]
    }
   ],
   "source": [
    "help(print)"
   ]
  },
  {
   "cell_type": "code",
   "execution_count": null,
   "metadata": {},
   "outputs": [],
   "source": [
    "A B C D E\n",
    "A B C D\n",
    "A B C\n",
    "A B\n",
    "A"
   ]
  },
  {
   "cell_type": "code",
   "execution_count": 45,
   "metadata": {},
   "outputs": [
    {
     "data": {
      "text/plain": [
       "'A'"
      ]
     },
     "execution_count": 45,
     "metadata": {},
     "output_type": "execute_result"
    }
   ],
   "source": [
    "chr(65)"
   ]
  },
  {
   "cell_type": "code",
   "execution_count": 46,
   "metadata": {
    "scrolled": true
   },
   "outputs": [
    {
     "name": "stdout",
     "output_type": "stream",
     "text": [
      "8\n",
      "A B C D E F G H \n",
      "A B C D E F G \n",
      "A B C D E F \n",
      "A B C D E \n",
      "A B C D \n",
      "A B C \n",
      "A B \n",
      "A \n"
     ]
    }
   ],
   "source": [
    "n = int(input())\n",
    "for row in range(n):\n",
    "    for column in range(n-row):\n",
    "        print(chr(65+column), end = \" \")\n",
    "    print()"
   ]
  },
  {
   "cell_type": "raw",
   "metadata": {},
   "source": [
    "    1 \n",
    "   2 2 \n",
    "  3 3 3 \n",
    " 4 4 4 4 \n",
    "5 5 5 5 5"
   ]
  },
  {
   "cell_type": "code",
   "execution_count": 48,
   "metadata": {},
   "outputs": [
    {
     "name": "stdout",
     "output_type": "stream",
     "text": [
      "9\n",
      "        1 \n",
      "       2 2 \n",
      "      3 3 3 \n",
      "     4 4 4 4 \n",
      "    5 5 5 5 5 \n",
      "   6 6 6 6 6 6 \n",
      "  7 7 7 7 7 7 7 \n",
      " 8 8 8 8 8 8 8 8 \n",
      "9 9 9 9 9 9 9 9 9 \n"
     ]
    }
   ],
   "source": [
    "n = int(input())\n",
    "for i in range(n):\n",
    "    print(\" \"*(n-i-1)+ (str(i+1)+\" \")*(i+1))"
   ]
  },
  {
   "cell_type": "raw",
   "metadata": {},
   "source": [
    "    E \n",
    "   E D \n",
    "  E D C \n",
    " E D C B \n",
    "E D C B A "
   ]
  },
  {
   "cell_type": "code",
   "execution_count": 64,
   "metadata": {},
   "outputs": [
    {
     "name": "stdout",
     "output_type": "stream",
     "text": [
      "9\n",
      "        I \n",
      "       I H \n",
      "      I H G \n",
      "     I H G F \n",
      "    I H G F E \n",
      "   I H G F E D \n",
      "  I H G F E D C \n",
      " I H G F E D C B \n",
      "I H G F E D C B A \n"
     ]
    }
   ],
   "source": [
    "n = int(input())\n",
    "for row in range(n):\n",
    "    print(\" \"*(n-row-1), end = \"\")\n",
    "    for column in range(row+1):\n",
    "        print(chr(64+(n-column)), end = \" \")\n",
    "    print()"
   ]
  },
  {
   "cell_type": "raw",
   "metadata": {},
   "source": [
    "    * \n",
    "   * * \n",
    "  * * * \n",
    " * * * * \n",
    "* * * * * \n",
    " * * * * \n",
    "  * * * \n",
    "   * * \n",
    "    * "
   ]
  },
  {
   "cell_type": "code",
   "execution_count": 71,
   "metadata": {},
   "outputs": [
    {
     "name": "stdout",
     "output_type": "stream",
     "text": [
      "20\n",
      "                   * \n",
      "                  * * \n",
      "                 * * * \n",
      "                * * * * \n",
      "               * * * * * \n",
      "              * * * * * * \n",
      "             * * * * * * * \n",
      "            * * * * * * * * \n",
      "           * * * * * * * * * \n",
      "          * * * * * * * * * * \n",
      "         * * * * * * * * * * * \n",
      "        * * * * * * * * * * * * \n",
      "       * * * * * * * * * * * * * \n",
      "      * * * * * * * * * * * * * * \n",
      "     * * * * * * * * * * * * * * * \n",
      "    * * * * * * * * * * * * * * * * \n",
      "   * * * * * * * * * * * * * * * * * \n",
      "  * * * * * * * * * * * * * * * * * * \n",
      " * * * * * * * * * * * * * * * * * * * \n",
      "* * * * * * * * * * * * * * * * * * * * \n",
      " * * * * * * * * * * * * * * * * * * * \n",
      "  * * * * * * * * * * * * * * * * * * \n",
      "   * * * * * * * * * * * * * * * * * \n",
      "    * * * * * * * * * * * * * * * * \n",
      "     * * * * * * * * * * * * * * * \n",
      "      * * * * * * * * * * * * * * \n",
      "       * * * * * * * * * * * * * \n",
      "        * * * * * * * * * * * * \n",
      "         * * * * * * * * * * * \n",
      "          * * * * * * * * * * \n",
      "           * * * * * * * * * \n",
      "            * * * * * * * * \n",
      "             * * * * * * * \n",
      "              * * * * * * \n",
      "               * * * * * \n",
      "                * * * * \n",
      "                 * * * \n",
      "                  * * \n",
      "                   * \n"
     ]
    }
   ],
   "source": [
    "n = int(input())\n",
    "for i in range(n):\n",
    "    print(\" \"*(n-i-1)+ \"* \"*(i+1))\n",
    "\n",
    "for j in range(n-1):\n",
    "    print(\" \"*(j+1)+ \"* \"*(n-j-1))"
   ]
  }
 ],
 "metadata": {
  "kernelspec": {
   "display_name": "Python 3",
   "language": "python",
   "name": "python3"
  },
  "language_info": {
   "codemirror_mode": {
    "name": "ipython",
    "version": 3
   },
   "file_extension": ".py",
   "mimetype": "text/x-python",
   "name": "python",
   "nbconvert_exporter": "python",
   "pygments_lexer": "ipython3",
   "version": "3.7.4"
  }
 },
 "nbformat": 4,
 "nbformat_minor": 2
}
