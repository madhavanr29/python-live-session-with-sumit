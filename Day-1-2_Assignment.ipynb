{
 "cells": [
  {
   "cell_type": "markdown",
   "metadata": {},
   "source": [
    "# Assigmnet\n",
    "#### There will be 20 Questions"
   ]
  },
  {
   "cell_type": "markdown",
   "metadata": {},
   "source": [
    "## input_string=\"this is my first assignment.i am loving it.\""
   ]
  },
  {
   "cell_type": "markdown",
   "metadata": {},
   "source": [
    " ## Q1. Display \"first\" from the given string"
   ]
  },
  {
   "cell_type": "markdown",
   "metadata": {},
   "source": [
    "## Q2. Display the string like: \"This is my first assignment. I Am Loving It.\""
   ]
  },
  {
   "cell_type": "markdown",
   "metadata": {},
   "source": [
    "## input_list= [[[1,5],3],\"hello\", 12.3, [1,2,3]]"
   ]
  },
  {
   "cell_type": "markdown",
   "metadata": {},
   "source": [
    "## Q3. Access element 5 from the above list with negative index"
   ]
  },
  {
   "cell_type": "markdown",
   "metadata": {},
   "source": [
    "## Q4. Print \"Hello\" using the above list"
   ]
  },
  {
   "cell_type": "markdown",
   "metadata": {},
   "source": [
    "## Given:  input_list=[\"mouse\",\"rat\",\"cat\"]\n"
   ]
  },
  {
   "cell_type": "markdown",
   "metadata": {},
   "source": [
    "## Q5. Display using above list: [\"Mouse\",\"Rat\",\"Cat\"]"
   ]
  },
  {
   "cell_type": "markdown",
   "metadata": {},
   "source": [
    "## Q6. Insert element \"Dog\" and make the list like: [\"Mouse\",\"Rat\",\"Dog\",\"Cat\"]"
   ]
  },
  {
   "cell_type": "markdown",
   "metadata": {},
   "source": [
    "## Q7. input_list=[[4, 7, 2, 1], 11, 22, 33, 44]\n",
    "- Expected o/p:[[4, 7, 1], 11, 33, 44]"
   ]
  },
  {
   "cell_type": "markdown",
   "metadata": {},
   "source": [
    "## Q8. input_list=[1, 3, 'new', [1, 5, 3], 'old']\n",
    "- Expected o/p: [1, 3, 'wen', [1, 5], 'dlo']\n"
   ]
  },
  {
   "cell_type": "markdown",
   "metadata": {},
   "source": [
    "## Q9. Given a string of form \"I love _ and _\"\n",
    "- Expected o/p: \"I Love Python And R\""
   ]
  },
  {
   "cell_type": "markdown",
   "metadata": {},
   "source": [
    "## Q10. Take 15.78956 in print() and display it in form of 3 decimal precision"
   ]
  },
  {
   "cell_type": "markdown",
   "metadata": {},
   "source": [
    "## Q11. input_string= \"A data scientist\"\n",
    "- take your name as another input and display as follows:\n",
    "- Expected o/p: \"Your_name, a Data Scientist\""
   ]
  },
  {
   "cell_type": "markdown",
   "metadata": {},
   "source": [
    "## Q12. Display the key,value pairs from the dictionary {'A': 1, 'B': 2, 'C': 4, 'D': 5}"
   ]
  },
  {
   "cell_type": "markdown",
   "metadata": {},
   "source": [
    "## Q13. d={ 'B': {'Z':20}, 'C':{'K':15},'A': {'G':30}}\n",
    "- Expected o/p: print [15,20,30]"
   ]
  },
  {
   "cell_type": "markdown",
   "metadata": {},
   "source": [
    "## Q14. input_string=\"Hello, welcome to sumit shukla's session\"\n",
    "- Expected o/p:\n",
    "<br>Hello, \n",
    "<br>welcome to Sumit Shukla's session"
   ]
  },
  {
   "cell_type": "markdown",
   "metadata": {},
   "source": [
    "## Q15. input_dictionary={ 'B': [11,9,7], 'C':{'K':15},'A': 1,'D':5}\n",
    "- Print [7,9,11] from the above dictionary"
   ]
  },
  {
   "cell_type": "markdown",
   "metadata": {},
   "source": [
    "## Q16. input_dictionary={ 'B': [11,9,7], 'C':[9,5,4],'A': [2],'D':[5]}\n",
    "- Make the first key's value list to tuple, Print: [(11, 9, 7), [9, 5, 4], [2], [5]]"
   ]
  },
  {
   "cell_type": "markdown",
   "metadata": {},
   "source": [
    "## Q17. Given dictionary d={ 'B': 2, 'C': 4,'A': 1,'D':5}\n",
    "- Expected o/p: [1,2,4,5]\n",
    "- Expected o/p: [5,1,4,2]"
   ]
  },
  {
   "cell_type": "markdown",
   "metadata": {},
   "source": [
    "## Q18. given_list=[1,2,3,1,2,4,2,5,5,6,8,3]\n",
    "- Remove duplicates and print the list in sorted order"
   ]
  },
  {
   "cell_type": "markdown",
   "metadata": {},
   "source": [
    "## Q19. d={\"A\":1, \"B\":2, \"C\":3, \"C\":4}\n",
    "- Display 'NA' for key=D"
   ]
  },
  {
   "cell_type": "markdown",
   "metadata": {},
   "source": [
    "## Q20. inp_list=[1,2,3,4,5,6,7,8,9,10]\n",
    "- Display only the even numbers in decreasing order."
   ]
  }
 ],
 "metadata": {
  "kernelspec": {
   "display_name": "Python 3",
   "language": "python",
   "name": "python3"
  },
  "language_info": {
   "codemirror_mode": {
    "name": "ipython",
    "version": 3
   },
   "file_extension": ".py",
   "mimetype": "text/x-python",
   "name": "python",
   "nbconvert_exporter": "python",
   "pygments_lexer": "ipython3",
   "version": "3.7.4"
  }
 },
 "nbformat": 4,
 "nbformat_minor": 2
}
